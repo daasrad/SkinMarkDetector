{
 "cells": [
  {
   "cell_type": "code",
   "execution_count": 18,
   "metadata": {},
   "outputs": [],
   "source": [
    "#!pip install -Uqq fastbook\n",
    "from fastai.vision.all import *\n",
    "from fastai.vision.widgets import *"
   ]
  },
  {
   "cell_type": "markdown",
   "metadata": {},
   "source": [
    "# The Skin Mark Identifier!\n"
   ]
  },
  {
   "cell_type": "markdown",
   "metadata": {},
   "source": [
    "---"
   ]
  },
  {
   "cell_type": "markdown",
   "metadata": {},
   "source": [
    "Need to know what that new mark on your skin is? Take a picture and find out what this AI thinks it is!\n",
    "\n",
    "\n",
    "Note: This AI is still experimental and does not give guranteed results. It does not give medical advice, and a real medical professional should be contacted in case of any actual abnormalities on your skin."
   ]
  },
  {
   "cell_type": "markdown",
   "metadata": {},
   "source": [
    "#### Upload the picture of the Skin Mark:"
   ]
  },
  {
   "cell_type": "code",
   "execution_count": 19,
   "metadata": {},
   "outputs": [],
   "source": [
    "path = Path()\n",
    "learn_inf = load_learner(path/'SkinMarkDetectorExport.pkl', cpu=True)\n",
    "\n",
    "\n",
    "btn_upload = widgets.FileUpload( layout=Layout(width='90%', height='100px'), button_style='primary')\n",
    "btn_upload.style.button_color = 'lightgreen'\n",
    "btn_upload.style.font_weight = 'bold'\n",
    "\n",
    "center_box_layout = widgets.Layout(display='flex',\n",
    "                flex_flow='column',\n",
    "                align_items='center',\n",
    "                width='100%')\n",
    "center_box = widgets.HBox(children=[btn_upload],layout=center_box_layout)\n",
    "\n",
    "\n",
    "out_pl = widgets.Output()\n",
    "lbl_pred = widgets.Label()"
   ]
  },
  {
   "cell_type": "code",
   "execution_count": 20,
   "metadata": {},
   "outputs": [],
   "source": [
    "def on_data_change(change):\n",
    "    lbl_pred.value = ''\n",
    "    img = PILImage.create(btn_upload.data[-1])\n",
    "    out_pl.clear_output()\n",
    "    with out_pl: display(img.to_thumb(128,128))\n",
    "    pred,pred_idx,probs = learn_inf.predict(img)\n",
    "    \n",
    "    # Add spaces before Captial Letters in Prediction:\n",
    "    pred = re.sub(r\"(\\w)([A-Z])\", r\"\\1 \\2\", pred)\n",
    "    \n",
    "    lbl_pred.value = f'Prediction: {pred}; Probability: {probs[pred_idx]:.02f}%'"
   ]
  },
  {
   "cell_type": "code",
   "execution_count": 21,
   "metadata": {},
   "outputs": [],
   "source": [
    "btn_upload.observe(on_data_change, names=['data'])"
   ]
  },
  {
   "cell_type": "code",
   "execution_count": 22,
   "metadata": {
    "scrolled": false
   },
   "outputs": [
    {
     "data": {
      "application/vnd.jupyter.widget-view+json": {
       "model_id": "6ee5e93db5574b51882dc7335f0252e5",
       "version_major": 2,
       "version_minor": 0
      },
      "text/plain": [
       "VBox(children=(HBox(children=(FileUpload(value={}, button_style='primary', description='Upload', layout=Layout…"
      ]
     },
     "metadata": {},
     "output_type": "display_data"
    }
   ],
   "source": [
    "display(VBox([center_box, out_pl, lbl_pred]))\n",
    "\n",
    "# display(VBox([widgets.Label('Upload the picture of the Skin Mark:', font_weight='bold'), center_box, out_pl, lbl_pred]))"
   ]
  },
  {
   "cell_type": "markdown",
   "metadata": {},
   "source": [
    "This AI can only identify: \n",
    "\n",
    "'Acne', 'Actinic Keratosis', 'Allergic Eczema', 'Blister', 'Boils', 'Bullae', 'Cellulitis', 'Chickenpox', 'Cold Sore', 'Contact Dermatitis', 'Crust', 'Herpes Simplex', 'Hives', 'Impetigo', 'Keloids', 'Macule', 'Nodule', 'Papule', 'Psoriasis', 'Rash', 'Scabies', 'Scale Skin', 'Scar', 'Sebaceous Cyst', 'Shingles', 'Skin Atrophy', 'Ulcer' and 'Wart'"
   ]
  },
  {
   "cell_type": "code",
   "execution_count": null,
   "metadata": {},
   "outputs": [],
   "source": []
  }
 ],
 "metadata": {
  "kernelspec": {
   "display_name": "Python 3",
   "language": "python",
   "name": "python3"
  },
  "language_info": {
   "codemirror_mode": {
    "name": "ipython",
    "version": 3
   },
   "file_extension": ".py",
   "mimetype": "text/x-python",
   "name": "python",
   "nbconvert_exporter": "python",
   "pygments_lexer": "ipython3",
   "version": "3.8.6"
  }
 },
 "nbformat": 4,
 "nbformat_minor": 4
}
